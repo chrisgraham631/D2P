{
  "nbformat": 4,
  "nbformat_minor": 0,
  "metadata": {
    "colab": {
      "name": "ROS WRFSFIRE.ipynb",
      "provenance": [],
      "collapsed_sections": [],
      "authorship_tag": "ABX9TyNeT0FOJLiZpV3ulY1Z/Y7o",
      "include_colab_link": true
    },
    "kernelspec": {
      "name": "python3",
      "display_name": "Python 3"
    },
    "language_info": {
      "name": "python"
    }
  },
  "cells": [
    {
      "cell_type": "markdown",
      "metadata": {
        "id": "view-in-github",
        "colab_type": "text"
      },
      "source": [
        "<a href=\"https://colab.research.google.com/github/chrisgraham631/D2P/blob/main/ROS_WRFSFIRE.ipynb\" target=\"_parent\"><img src=\"https://colab.research.google.com/assets/colab-badge.svg\" alt=\"Open In Colab\"/></a>"
      ]
    },
    {
      "cell_type": "code",
      "metadata": {
        "id": "zpwDXW5se2h1"
      },
      "source": [
        "import pandas as pd\n",
        "import numpy as np\n",
        "import matplotlib.pyplot as plt"
      ],
      "execution_count": null,
      "outputs": []
    },
    {
      "cell_type": "code",
      "metadata": {
        "colab": {
          "base_uri": "https://localhost:8080/"
        },
        "id": "tlC8lIOmabgE",
        "outputId": "ae1ac29b-a2ad-4188-ca97-36cf2f5037d5"
      },
      "source": [
        "# given fuel params\n",
        "fuel = {'windrf': [0.1], 'fgi': 1, 'fueldepthm': 1,'savr': 109, 'fuelmce': 0.05, 'fueldens':  0.1,\n",
        "        'st': 0.055, 'se': 0.01, 'weight': 0.1, 'fci_d': 1, 'fct': 1, 'ichap': 0, 'fci': 1, 'fcbr': 1, \n",
        "        'hfgl': 1, 'fuelheat': 8000, 'fuelmc_g': 1, 'fuelmc_c': 1, 'cmbcnst': 1}\n",
        "fuel = pd.DataFrame(fuel)\n",
        "\n",
        "#fuel.windrf = 0.1               # WIND REDUCTION FACTOR\n",
        "#fuel.fgi    = [1];                     # INITIAL TOTAL MASS OF SURFACE FUEL (KG/M**2)\n",
        "#fuel.fueldepthm = 1       # FUEL DEPTH (M)\n",
        "#fuel.savr   = 109                   # FUEL PARTICLE SURFACE-AREA-TO-VOLUME RATIO, 1/FT\n",
        "#fuel.fuelmce = 0.05         # MOISTURE CONTENT OF EXTINCTION\n",
        "#fuel.fueldens = 0.1           # OVENDRY PARTICLE DENSITY, LB/FT^3\n",
        "#fuel.st     =   0.0555                     # FUEL PARTICLE TOTAL MINERAL CONTENT\n",
        "#fuel.se  = 0.01                       # FUEL PARTICLE EFFECTIVE MINERAL CONTENT\n",
        "#fuel.weight = 0.1             # WEIGHTING PARAMETER THAT DETERMINES THE SLOPE OF THE MASS LOSS CURVE\n",
        "#fuel.fci_d = 1                # INITIAL DRY MASS OF CANOPY FUEL\n",
        "#fuel.fct   = 1                   # BURN OUT TIME FOR CANOPY FUEL, AFTER DRY (S)\n",
        "#fuel.ichap = 0                # 1 if chaparral, 0 if not\n",
        "#fuel.fci   = 1                   # INITIAL TOTAL MASS OF CANOPY FUEL\n",
        "#fuel.fcbr = 1                   # FUEL CANOPY BURN RATE (KG/M**2/S)\n",
        "#fuel.hfgl = 1                # SURFACE FIRE HEAT FLUX THRESHOLD TO IGNITE CANOPY (W/m^2)\n",
        "#fuel.cmbcnst = 1             # JOULES PER KG OF DRY FUEL\n",
        "#fuel.fuelheat = 8000        # FUEL PARTICLE LOW HEAT CONTENT, BTU/LB\n",
        "#fuel.fuelmc_g1 = 1           # FUEL PARTICLE (SURFACE) MOISTURE CONTENT, jm: 1 by weight?\n",
        "#fuel.fuelmc_c =1           # FUEL PARTICLE (CANOPY) MOISTURE CONTENT, 1\n",
        "\n",
        "print(fuel.ichap[0])"
      ],
      "execution_count": null,
      "outputs": [
        {
          "output_type": "stream",
          "name": "stdout",
          "text": [
            "0\n"
          ]
        }
      ]
    },
    {
      "cell_type": "code",
      "metadata": {
        "id": "arb3_BwPF9pT"
      },
      "source": [
        "def fire_ros(fuel,speed,tanphi):\n",
        "  # ros=fire_ros(fuel,speed,tanphi)\n",
        "  # ros=fire_ros(fuel,speed,tanphi,fmc_g)\n",
        "  # in\n",
        "  #       fuel    fuel description structure\n",
        "  #       speed   wind speed\n",
        "  #       tanphi  slope\n",
        "  #       fmc_g   optional, overrides fuelmc_g from the fuel description\n",
        "  # out\n",
        "  #       ros     rate of spread\n",
        "\n",
        "  # given fuel params\n",
        "  windrf=fuel.windrf;               # WIND REDUCTION FACTOR\n",
        "  fgi=fuel.fgi;                     # INITIAL TOTAL MASS OF SURFACE FUEL (KG/M**2)\n",
        "  fueldepthm=fuel.fueldepthm;       # FUEL DEPTH (M)\n",
        "  savr=fuel.savr;                   # FUEL PARTICLE SURFACE-AREA-TO-VOLUME RATIO, 1/FT\n",
        "  fuelmce=fuel.fuelmce;             # MOISTURE CONTENT OF EXTINCTION\n",
        "  fueldens=fuel.fueldens;           # OVENDRY PARTICLE DENSITY, LB/FT^3\n",
        "  st=fuel.st;                       # FUEL PARTICLE TOTAL MINERAL CONTENT\n",
        "  se=fuel.se;                       # FUEL PARTICLE EFFECTIVE MINERAL CONTENT\n",
        "  weight=fuel.weight;               # WEIGHTING PARAMETER THAT DETERMINES THE SLOPE OF THE MASS LOSS CURVE\n",
        "  fci_d=fuel.fci_d;                 # INITIAL DRY MASS OF CANOPY FUEL\n",
        "  fct=fuel.fct;                     # BURN OUT TIME FOR CANOPY FUEL, AFTER DRY (S)\n",
        "  ichap=fuel.ichap;                 # 1 if chaparral, 0 if not\n",
        "  fci=fuel.fci;                     # INITIAL TOTAL MASS OF CANOPY FUEL\n",
        "  fcbr=fuel.fcbr;                   # FUEL CANOPY BURN RATE (KG/M**2/S)\n",
        "  hfgl=fuel.hfgl;                   # SURFACE FIRE HEAT FLUX THRESHOLD TO IGNITE CANOPY (W/m^2)\n",
        "  cmbcnst=fuel.cmbcnst;             # JOULES PER KG OF DRY FUEL\n",
        "  fuelheat=fuel.fuelheat;           # FUEL PARTICLE LOW HEAT CONTENT, BTU/LB\n",
        "  fuelmc_g=fuel.fuelmc_g;           # FUEL PARTICLE (SURFACE) MOISTURE CONTENT, jm: 1 by weight?\n",
        "  fuelmc_c=fuel.fuelmc_c;           # FUEL PARTICLE (CANOPY) MOISTURE CONTENT, 1\n",
        "\n",
        "#if exist('fmc_g','var'): # override moisture content by given\n",
        "    #fuelmc_g = fmc_g;\n",
        "    ##wont use##\n",
        "\n",
        "\n",
        "  # computations from CAWFE code: wf2_janice/fire_startup.m4 \n",
        "\n",
        "  bmst     = fuelmc_g/(1+fuelmc_g);          # jm: 1 \n",
        "  fuelheat = cmbcnst * 4.30e-04;             # convert J/kg to BTU/lb\n",
        "  fci      = (1+fuelmc_c)*fci_d;\n",
        "  fuelloadm= (1-bmst) * fgi;                # fuelload without moisture\n",
        "                                           # jm: 1.-bmst = 1/(1+fuelmc_g) so fgi includes moisture? \n",
        "  fuelload = fuelloadm * (.3048)**2 * 2.205;  # to lb/ft^2\n",
        "  fueldepth= fueldepthm/0.3048;              # to ft\n",
        "  betafl   = fuelload/(fueldepth * fueldens);# packing ratio  jm: lb/ft^2/(ft * lb*ft^3) = 1\n",
        "  betaop   = 3.348 * savr**(-0.8189);         # optimum packing ratio jm: units??  \n",
        "  qig      = 250 + 1116*fuelmc_g;          # heat of preignition, btu/lb\n",
        "  epsilon  = np.exp(-138/savr );               # effective heating number\n",
        "  rhob     = fuelload/fueldepth;             # ovendry bulk density, lb/ft^3\n",
        "  c        = 7.47 * np.exp(-0.133 * savr**0.55); # const in wind coef\n",
        "  bbb      = 0.02526 * savr**0.54;            # const in wind coef\n",
        "  c        = c * windrf**bbb;                 # jm: wind reduction from 20ft per Baughman&Albini(1980)\n",
        "  e        = 0.715 * np.exp( -3.59e-4 * savr);  # const in wind coef\n",
        "  phiwc    = c * (betafl/betaop)**(-e); \n",
        "  rtemp2   = savr**1.5;\n",
        "  gammax   = rtemp2/(495. + 0.0594*rtemp2);  # maximum rxn vel, 1/min\n",
        "  a        = 1./(4.774 * savr**0.1 - 7.27);   # coef for optimum rxn vel\n",
        "  ratio    = betafl/betaop;   \n",
        "  gamma    = gammax*(ratio**a)*np.exp(a*(1-ratio)); # optimum rxn vel, 1/min\n",
        "  wn       = fuelload/(1 + st);              # net fuel loading, lb/ft^2\n",
        "  rtemp1   = fuelmc_g/fuelmce;\n",
        "  etam     = 1.-2.59*rtemp1 +5.11*rtemp1**2 -3.52*rtemp1**3;  # moist damp coef\n",
        "  etas     = 0.174* se**(-0.19);              # mineral damping coef\n",
        "  ir       = gamma * wn * fuelheat * etam * etas; # rxn intensity,btu/ft^2 min\n",
        "  irm      = ir * 1055/( 0.3048**2 * 60) * 1e-6; # for mw/m^2 (set but not used)\n",
        "  xifr     = np.exp( (0.792 + 0.681*savr**0.5)* (betafl+0.1)) /(192 + 0.2595*savr); # propagating flux ratio r_0 is the spread rate for a fire on flat ground with no wind.\n",
        "  r_0      = ir*xifr/(rhob * epsilon *qig);  # default spread rate in ft/min\n",
        "\n",
        "  # computations from CAWFE code: wf2_janice/fire_ros.m4 \n",
        "  if not ichap[0]:\n",
        "    #       ... if wind is 0 or into fireline, phiw = 0, &this reduces to backing ros.\n",
        " \n",
        "    spdms = max(speed,0);\n",
        "    umidm = min(spdms,30);                    # max input wind spd is 30 m/s   !param!\n",
        "    umid = umidm * 196.850;                    # m/s to ft/min\n",
        "    #  eqn.: phiw = c * umid**bbb * (betafl/betaop)**(-e) ! wind coef\n",
        "    phiw = umid**bbb * phiwc;                   # wind coef\n",
        "    phis = 5.275 * betafl**(-0.3) *max(0,tanphi)**2;   # slope factor\n",
        "    ros = r_0*(1 + phiw + phis)  * .00508; # spread rate, m/s\n",
        "  else:  # chapparal'''\n",
        "    #        .... spread rate has no dependency on fuel character, only windspeed.\n",
        "    spdms = max(speed,0);\n",
        "    ros = max(.03333,1.2974 * spdms**1.41);       # spread rate, m/s\n",
        "\n",
        "    ros=min(ros,6);\n",
        "  return ros"
      ],
      "execution_count": null,
      "outputs": []
    },
    {
      "cell_type": "code",
      "metadata": {
        "colab": {
          "base_uri": "https://localhost:8080/",
          "height": 276
        },
        "id": "Kd7ir3mcJGaJ",
        "outputId": "851d169e-94e6-4798-b130-3d9d3c53ba7c"
      },
      "source": [
        "wind = np.linspace(0,10,100);\n",
        "ros  = np.zeros((len(wind),1));\n",
        "for i, val in enumerate(wind):\n",
        "  ros[i] = fire_ros(fuel,val,5);\n",
        "plt.plot(wind, ros);"
      ],
      "execution_count": null,
      "outputs": [
        {
          "output_type": "display_data",
          "data": {
            "image/png": "[encoded data removed]",
            "text/plain": [
              "<Figure size 432x288 with 1 Axes>"
            ]
          },
          "metadata": {
            "needs_background": "light"
          }
        }
      ]
    }
  ]
}